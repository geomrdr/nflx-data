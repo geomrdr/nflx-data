{
 "cells": [
  {
   "cell_type": "code",
   "execution_count": 2,
   "metadata": {},
   "outputs": [],
   "source": [
    "# Import the 'os' and 'csv' libraries\n",
    "import os\n",
    "import csv"
   ]
  },
  {
   "cell_type": "code",
   "execution_count": 6,
   "metadata": {},
   "outputs": [],
   "source": [
    "# Set path for importing our CSV file\n",
    "csvpath = os.path.join('..', 'Resources', 'yahoo_stock.csv')"
   ]
  },
  {
   "cell_type": "code",
   "execution_count": 44,
   "metadata": {},
   "outputs": [
    {
     "name": "stdout",
     "output_type": "stream",
     "text": [
      "Date:  3/13/2020\n",
      "Stock High:  2711.330078\n",
      "Stock High:  2492.370117\n",
      "Volume:  8258670000\n",
      "Percent Change for the day:  5.487571179216923\n"
     ]
    }
   ],
   "source": [
    "# Open a connection to the comma-delimited csv file \n",
    "with open(csvpath) as csvfile:\n",
    "    \n",
    "\n",
    "    # Read in the CSV file using csv.DictReader() class\n",
    "    csvreader = csv.DictReader(csvfile, delimiter=',')\n",
    "    \n",
    "    # Create a variable to save our print row and greatest daily percent change\n",
    "    printrow = next(csvreader)\n",
    "    #print(printrow)\n",
    "    \n",
    "    open_str = printrow['Open']\n",
    "    close_str = printrow['Close']\n",
    "    # The values in the dictionary were a string -> convert to float\n",
    "    open_f = float(open_str)\n",
    "    close_f = float(close_str)\n",
    "    #print(type(open_str))\n",
    "    #print(type(open_f))\n",
    "    #print(open_f)\n",
    "    \n",
    "    max_pct = ((close_f - open_f)/open_f) * 100\n",
    "    \n",
    "    # Iterate through each row\n",
    "    for row in csvreader:\n",
    "        # For each row, calculate the daily percent change\n",
    "        open_str1 = row['Open']\n",
    "        close_str1 = row['Close']\n",
    "        open_f1 = float(open_str1)\n",
    "        #print(open_f1)\n",
    "        close_f1 = float(close_str1)\n",
    "        #print(close_f1)\n",
    "        max_pct1 = ((close_f1 - open_f1)/open_f1) * 100\n",
    "        #print(max_pct1)\n",
    "        \n",
    "        # Check if the absolute daily percent change is greater than the previous max\n",
    "        if max_pct1 > max_pct:\n",
    "            # If true, store new greatest daily percent change and print row\n",
    "            max_pct = max_pct1\n",
    "            printrow = row\n",
    "    # Print out the date, stock high, stock low, volume and percent change for the day with the greatest percent change\n",
    "    print(\"Date: \", printrow['Date'])\n",
    "    print(\"Stock High: \", printrow['High'])\n",
    "    print(\"Stock High: \", printrow['Low'])\n",
    "    print(\"Volume: \", printrow['Volume'])\n",
    "    print(\"Percent Change for the day: \", max_pct)"
   ]
  },
  {
   "cell_type": "code",
   "execution_count": null,
   "metadata": {},
   "outputs": [],
   "source": []
  }
 ],
 "metadata": {
  "kernelspec": {
   "display_name": "Python 3",
   "language": "python",
   "name": "python3"
  },
  "language_info": {
   "codemirror_mode": {
    "name": "ipython",
    "version": 3
   },
   "file_extension": ".py",
   "mimetype": "text/x-python",
   "name": "python",
   "nbconvert_exporter": "python",
   "pygments_lexer": "ipython3",
   "version": "3.8.5"
  }
 },
 "nbformat": 4,
 "nbformat_minor": 4
}

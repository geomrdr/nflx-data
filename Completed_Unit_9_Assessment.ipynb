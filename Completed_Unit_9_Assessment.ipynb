{
 "cells": [
  {
   "cell_type": "markdown",
   "metadata": {},
   "source": [
    "# Instructions"
   ]
  },
  {
   "cell_type": "markdown",
   "metadata": {},
   "source": [
    "Read each question carefully and provide an appropriate answer in the following cells. Depending on the question, you may need to provide code or a text submission. **Be sure to label your answers with the question number for easy identification!**"
   ]
  },
  {
   "cell_type": "markdown",
   "metadata": {},
   "source": [
    "**Question 1: Which of the following statements is an example of a classification problem? (2 points)**\n",
    "\n",
    "A. Apartment Price Prediction \n",
    "\n",
    "B. Customer Churn Prediction\n",
    "\n",
    "C. Inventory Volume Forecasting\n",
    "\n",
    "D. Electric Power Consumption Prediction"
   ]
  },
  {
   "cell_type": "code",
   "execution_count": null,
   "metadata": {},
   "outputs": [],
   "source": [
    "#1 ANS: B"
   ]
  },
  {
   "cell_type": "markdown",
   "metadata": {},
   "source": [
    "**Question 2: Add to the code block below where indicated to create training and testing datasets. Then create, fit, predict, and score a Logistic Regression model object to predict the target `is_promoted`. (8 points)**"
   ]
  },
  {
   "cell_type": "code",
   "execution_count": 6,
   "metadata": {},
   "outputs": [],
   "source": [
    "# Dependencies\n",
    "from sklearn import datasets\n",
    "from sklearn.linear_model import LogisticRegression \n",
    "from sklearn.model_selection import train_test_split\n",
    "from sklearn.metrics import accuracy_score\n",
    "import pandas as pd\n",
    "import matplotlib.pyplot as plt\n",
    "\n",
    "# Import Data\n",
    "df = pd.read_csv('promotion_data.csv')\n",
    "#df.head()\n",
    "### YOUR CODE HERE"
   ]
  },
  {
   "cell_type": "code",
   "execution_count": 5,
   "metadata": {},
   "outputs": [
    {
     "name": "stdout",
     "output_type": "stream",
     "text": [
      "Accuracy: 0.9163584052609947\n",
      "Accuracy: 0.9163584052609947\n",
      "Correctly Classified: 8918\n",
      "Total Test Records: 9732\n"
     ]
    }
   ],
   "source": [
    "X = df.drop(columns = ['is_promoted'])\n",
    "y = df['is_promoted']\n",
    "\n",
    "X_train, X_test, y_train, y_test = train_test_split(X, y, test_size=0.20, random_state=42)\n",
    "\n",
    "model = LogisticRegression(solver='liblinear')\n",
    "\n",
    "model.fit(X_train, y_train)\n",
    "\n",
    "y_pred = model.predict(X_test)\n",
    "\n",
    "print(f'Accuracy: {model.score(X_test, y_test)}')\n",
    "print(f'Accuracy: {accuracy_score(y_test, y_pred)}')\n",
    "print(f'Correctly Classified: {accuracy_score(y_test, y_pred, normalize=False)}')\n",
    "print(f'Total Test Records: {y_test.count()}')"
   ]
  },
  {
   "cell_type": "markdown",
   "metadata": {},
   "source": [
    "**Question 3: Using the model created in question 2, plot a Confusion Matrix. (4 points)**"
   ]
  },
  {
   "cell_type": "code",
   "execution_count": 9,
   "metadata": {},
   "outputs": [
    {
     "data": {
      "text/plain": [
       "<sklearn.metrics._plot.confusion_matrix.ConfusionMatrixDisplay at 0x7fa7227b3670>"
      ]
     },
     "execution_count": 9,
     "metadata": {},
     "output_type": "execute_result"
    },
    {
     "data": {
      "image/png": "[encoded data removed]",
      "text/plain": [
       "<Figure size 432x288 with 2 Axes>"
      ]
     },
     "metadata": {
      "needs_background": "light"
     },
     "output_type": "display_data"
    }
   ],
   "source": [
    "from sklearn.metrics import plot_confusion_matrix\n",
    "\n",
    "### YOUR CODE HERE\n",
    "plot_confusion_matrix(model, X_test, y_test)"
   ]
  },
  {
   "cell_type": "markdown",
   "metadata": {},
   "source": [
    "**Question 4: Using the model created in question 2, print a Classification Report. (4 points)**"
   ]
  },
  {
   "cell_type": "code",
   "execution_count": 15,
   "metadata": {},
   "outputs": [
    {
     "name": "stdout",
     "output_type": "stream",
     "text": [
      "              precision    recall  f1-score   support\n",
      "\n",
      "           0       0.92      1.00      0.96      8865\n",
      "           1       0.80      0.08      0.15       867\n",
      "\n",
      "    accuracy                           0.92      9732\n",
      "   macro avg       0.86      0.54      0.55      9732\n",
      "weighted avg       0.91      0.92      0.88      9732\n",
      "\n"
     ]
    }
   ],
   "source": [
    "from sklearn.metrics import classification_report\n",
    "\n",
    "### YOUR CODE HERE\n",
    "print(classification_report(y_test, y_pred))"
   ]
  },
  {
   "cell_type": "markdown",
   "metadata": {},
   "source": [
    "**Question 5: Which one of the following concepts can we use to reduce the dimensionality of our dataset through the creation of combination features? (2 points):**\n",
    "\n",
    "A. Variable Inflation Factor\n",
    "\n",
    "B. Eigendecomposition \n",
    "\n",
    "C. Principal Component Analysis\n",
    "\n",
    "D. Analysis of Variance"
   ]
  },
  {
   "cell_type": "code",
   "execution_count": null,
   "metadata": {},
   "outputs": [],
   "source": [
    "#5 Ans: C"
   ]
  }
 ],
 "metadata": {
  "kernelspec": {
   "display_name": "Python 3",
   "language": "python",
   "name": "python3"
  },
  "language_info": {
   "codemirror_mode": {
    "name": "ipython",
    "version": 3
   },
   "file_extension": ".py",
   "mimetype": "text/x-python",
   "name": "python",
   "nbconvert_exporter": "python",
   "pygments_lexer": "ipython3",
   "version": "3.8.5"
  }
 },
 "nbformat": 4,
 "nbformat_minor": 4
}
